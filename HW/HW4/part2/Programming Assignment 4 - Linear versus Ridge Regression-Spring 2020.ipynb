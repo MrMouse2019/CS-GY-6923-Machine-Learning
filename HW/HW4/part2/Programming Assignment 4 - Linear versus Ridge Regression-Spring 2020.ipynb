{
 "cells": [
  {
   "cell_type": "markdown",
   "metadata": {},
   "source": [
    "# Programming Assignment 4 - Linear versus Ridge Regression "
   ]
  },
  {
   "cell_type": "markdown",
   "metadata": {},
   "source": [
    "Your friend Bob just moved to Boston. He is a real estate agent who is trying to evaluate the prices of houses in the Boston area. He has been using a linear regression model but he wonders if he can improve his accuracy on predicting the prices for new houses. He comes to you for help as he knows that you're an expert in machine learning. \n",
    "\n",
    "As a pro, you suggest doing a *polynomial transformation*  to create a more flexible model, and performing ridge regression since having so many features compared to data points increases the variance. \n",
    "\n",
    "Bob, however, being a skeptic isn't convinced. He wants you to write a program that illustrates the difference in training and test costs for both linear and ridge regression on the same dataset. Being a good friend, you oblige and hence this assignment :) "
   ]
  },
  {
   "cell_type": "markdown",
   "metadata": {},
   "source": [
    "In this notebook, you are to explore the effects of ridge regression.  We will use a dataset that is part of the sklearn.dataset package.  Learn more at https://scikit-learn.org/stable/modules/generated/sklearn.datasets.load_boston.html"
   ]
  },
  {
   "cell_type": "markdown",
   "metadata": {},
   "source": [
    "## Step 1:  Getting, understanding, and preprocessing the dataset\n",
    "\n",
    "We first import the standard libaries and some libraries that will help us scale the data and perform some \"feature engineering\" by transforming the data into $\\Phi_2({\\bf x})$"
   ]
  },
  {
   "cell_type": "code",
   "execution_count": 1,
   "metadata": {},
   "outputs": [],
   "source": [
    "import numpy as np\n",
    "import sklearn\n",
    "from sklearn.datasets import load_boston\n",
    "from sklearn.preprocessing import PolynomialFeatures\n",
    "from sklearn import preprocessing\n",
    "from sklearn.model_selection import train_test_split\n",
    "import sklearn.linear_model\n",
    "from sklearn.model_selection import KFold"
   ]
  },
  {
   "cell_type": "markdown",
   "metadata": {},
   "source": [
    "###  Importing the dataset"
   ]
  },
  {
   "cell_type": "code",
   "execution_count": 2,
   "metadata": {},
   "outputs": [],
   "source": [
    "# Import the boston dataset from sklearn\n",
    "boston_data = load_boston()"
   ]
  },
  {
   "cell_type": "code",
   "execution_count": 3,
   "metadata": {},
   "outputs": [
    {
     "name": "stdout",
     "output_type": "stream",
     "text": [
      "The number of features is:  13\n",
      "The features:  ['CRIM' 'ZN' 'INDUS' 'CHAS' 'NOX' 'RM' 'AGE' 'DIS' 'RAD' 'TAX' 'PTRATIO'\n",
      " 'B' 'LSTAT']\n",
      "The number of exampels in our dataset:  506\n",
      "[[6.3200e-03 1.8000e+01 2.3100e+00 0.0000e+00 5.3800e-01 6.5750e+00\n",
      "  6.5200e+01 4.0900e+00 1.0000e+00 2.9600e+02 1.5300e+01 3.9690e+02\n",
      "  4.9800e+00]\n",
      " [2.7310e-02 0.0000e+00 7.0700e+00 0.0000e+00 4.6900e-01 6.4210e+00\n",
      "  7.8900e+01 4.9671e+00 2.0000e+00 2.4200e+02 1.7800e+01 3.9690e+02\n",
      "  9.1400e+00]]\n"
     ]
    }
   ],
   "source": [
    "#  Create X and Y variables - X holding the .data and Y holding .target \n",
    "X = boston_data.data\n",
    "y = boston_data.target\n",
    "\n",
    "#  Reshape Y to be a rank 2 matrix \n",
    "y = y.reshape(X.shape[0], 1)\n",
    "\n",
    "# Observe the number of features and the number of labels\n",
    "print('The number of features is: ', X.shape[1])\n",
    "# Printing out the features\n",
    "print('The features: ', boston_data.feature_names)\n",
    "# The number of examples\n",
    "print('The number of exampels in our dataset: ', X.shape[0])\n",
    "#Observing the first 2 rows of the data\n",
    "print(X[0:2])\n"
   ]
  },
  {
   "cell_type": "markdown",
   "metadata": {},
   "source": [
    "We will also create polynomial feeatures for the dataset to test linear and ridge regression on data with d = 1 and data with d = 2. Feel free to increase the # of degress and see what effect it has on the training and test error. "
   ]
  },
  {
   "cell_type": "code",
   "execution_count": 4,
   "metadata": {},
   "outputs": [],
   "source": [
    "# Create a PolynomialFeatures object with degree = 2. \n",
    "# Transform X and save it into X_2. Simply copy Y into Y_2 \n",
    "poly = PolynomialFeatures(degree=2)\n",
    "X_2 = poly.fit_transform(X)\n",
    "y_2 = y"
   ]
  },
  {
   "cell_type": "code",
   "execution_count": 5,
   "metadata": {},
   "outputs": [
    {
     "name": "stdout",
     "output_type": "stream",
     "text": [
      "(506, 105)\n",
      "(506, 1)\n"
     ]
    }
   ],
   "source": [
    "# the shape of X_2 and Y_2 - should be (506, 105) and (506, 1) respectively\n",
    "print(X_2.shape)\n",
    "print(y_2.shape)"
   ]
  },
  {
   "cell_type": "markdown",
   "metadata": {},
   "source": [
    "# Your code goes here"
   ]
  },
  {
   "cell_type": "code",
   "execution_count": 6,
   "metadata": {},
   "outputs": [],
   "source": [
    "# TODO - Define the get_coeff_ridge_normaleq function. Use the normal equation method.\n",
    "# TODO - Return w values\n",
    "\n",
    "def get_coeff_ridge_normaleq(X_train, y_train, alpha):\n",
    "    # use np.linalg.pinv(a)\n",
    "    #### TO-DO #####\n",
    "    N = X_train.shape[1]\n",
    "    # rint(N)\n",
    "    I = np.identity(N)\n",
    "    I[0][0] = 0.\n",
    "    w = np.linalg.pinv(X_train.T.dot(X_train) + (alpha*N)*(I)).dot(X_train.T).dot(y_train)\n",
    "    ##############\n",
    "    return w"
   ]
  },
  {
   "cell_type": "code",
   "execution_count": 7,
   "metadata": {},
   "outputs": [],
   "source": [
    "# TODO - Define the evaluate_err_ridge function.\n",
    "# TODO - Return the train_error and test_error values\n",
    "\n",
    "def evaluate_err(X_train, X_test, y_train, y_test, w): \n",
    "    #### TO-DO #####\n",
    "    N_train = X_train.shape[0]\n",
    "    temp1 = X_train.dot(w) - y_train\n",
    "    train_error = 1 / N_train * (temp1.T.dot(temp1))\n",
    "    \n",
    "    N_test = X_test.shape[0]\n",
    "    temp2 = X_test.dot(w) - y_test\n",
    "    test_error = 1 / N_test * (temp2.T.dot(temp2))\n",
    "    ##############\n",
    "    return train_error[0][0], test_error[0][0]"
   ]
  },
  {
   "cell_type": "code",
   "execution_count": 8,
   "metadata": {},
   "outputs": [],
   "source": [
    "# TODO - Finish writting the k_fold_cross_validation function. \n",
    "# TODO - Returns the average training error and average test error from the k-fold cross validation\n",
    "# use Sklearns K-Folds cross-validator: https://scikit-learn.org/stable/modules/generated/sklearn.model_selection.KFold.html\n",
    "\n",
    "def k_fold_cross_validation(k, X, y, alpha):\n",
    "    kf = KFold(n_splits=k, random_state=21, shuffle=True)\n",
    "    total_E_val_test = 0\n",
    "    total_E_val_train = 0\n",
    "    for train_index, test_index in kf.split(X):\n",
    "        X_train, X_test = X[train_index], X[test_index]\n",
    "        y_train, y_test = y[train_index], y[test_index]\n",
    "        \n",
    "        # scaling the data matrix\n",
    "        scaler = preprocessing.StandardScaler().fit(X_train)\n",
    "        X_train = scaler.transform(X_train)\n",
    "        X_test = scaler.transform(X_test)\n",
    "        \n",
    "        # Adding a column of 1's to the front of X_train and X_test\n",
    "        one_col = np.ones((X_train.shape[0],1))\n",
    "        X_train = np.hstack((one_col, X_train ))\n",
    "        one_col = np.ones((X_test.shape[0],1))\n",
    "        X_test  = np.hstack((one_col, X_test ))\n",
    "        \n",
    "        # determine the training error and the test error\n",
    "        #### TO-DO #####\n",
    "        w = get_coeff_ridge_normaleq(X_train, y_train, alpha)\n",
    "        train_error, test_error = evaluate_err(X_train, X_test, y_train, y_test, w)\n",
    "        total_E_val_train += train_error\n",
    "        total_E_val_test += test_error\n",
    "\n",
    "    E_val_test = total_E_val_test / k\n",
    "    E_val_train = total_E_val_train / k\n",
    "       ##############\n",
    "    return  E_val_test, E_val_train"
   ]
  },
  {
   "cell_type": "code",
   "execution_count": 9,
   "metadata": {},
   "outputs": [],
   "source": [
    "import pandas as pd"
   ]
  },
  {
   "cell_type": "code",
   "execution_count": 10,
   "metadata": {},
   "outputs": [],
   "source": [
    "# specify the value of k (k-fold cross validation)\n",
    "k = 10"
   ]
  },
  {
   "cell_type": "code",
   "execution_count": 11,
   "metadata": {},
   "outputs": [],
   "source": [
    "# linear transformation\n",
    "d = 1\n",
    "res_1 = [] # store the results from question 1-a to 1-"
   ]
  },
  {
   "cell_type": "code",
   "execution_count": 12,
   "metadata": {},
   "outputs": [
    {
     "name": "stdout",
     "output_type": "stream",
     "text": [
      "MSE for test set: 23.636068605428214\n",
      "MSE for training set: 21.806183575851065\n"
     ]
    }
   ],
   "source": [
    "# 1-a fitting a linear model\n",
    "alpha = 0.\n",
    "E_val_test, E_val_train = k_fold_cross_validation(k, X, y, alpha)\n",
    "\n",
    "print(\"MSE for test set: {}\".format(E_val_test))\n",
    "print(\"MSE for training set: {}\".format(E_val_train))\n",
    "res_1 += [[0., E_val_test, E_val_train, d]]"
   ]
  },
  {
   "cell_type": "code",
   "execution_count": 13,
   "metadata": {},
   "outputs": [
    {
     "name": "stdout",
     "output_type": "stream",
     "text": [
      "The best alpha is 1.023292992280754, with test error: 23.742384131659463\n"
     ]
    },
    {
     "data": {
      "text/html": [
       "<div>\n",
       "<style scoped>\n",
       "    .dataframe tbody tr th:only-of-type {\n",
       "        vertical-align: middle;\n",
       "    }\n",
       "\n",
       "    .dataframe tbody tr th {\n",
       "        vertical-align: top;\n",
       "    }\n",
       "\n",
       "    .dataframe thead th {\n",
       "        text-align: right;\n",
       "    }\n",
       "</style>\n",
       "<table border=\"1\" class=\"dataframe\">\n",
       "  <thead>\n",
       "    <tr style=\"text-align: right;\">\n",
       "      <th></th>\n",
       "      <th>alpha</th>\n",
       "      <th>MSE_test</th>\n",
       "      <th>MSE_train</th>\n",
       "    </tr>\n",
       "  </thead>\n",
       "  <tbody>\n",
       "    <tr>\n",
       "      <td>0</td>\n",
       "      <td>1.023293</td>\n",
       "      <td>23.742384</td>\n",
       "      <td>21.959905</td>\n",
       "    </tr>\n",
       "    <tr>\n",
       "      <td>1</td>\n",
       "      <td>1.237371</td>\n",
       "      <td>23.784868</td>\n",
       "      <td>22.011321</td>\n",
       "    </tr>\n",
       "    <tr>\n",
       "      <td>2</td>\n",
       "      <td>1.496236</td>\n",
       "      <td>23.840126</td>\n",
       "      <td>22.077217</td>\n",
       "    </tr>\n",
       "    <tr>\n",
       "      <td>3</td>\n",
       "      <td>1.809256</td>\n",
       "      <td>23.910968</td>\n",
       "      <td>22.160725</td>\n",
       "    </tr>\n",
       "    <tr>\n",
       "      <td>4</td>\n",
       "      <td>2.187762</td>\n",
       "      <td>24.000650</td>\n",
       "      <td>22.265461</td>\n",
       "    </tr>\n",
       "    <tr>\n",
       "      <td>5</td>\n",
       "      <td>2.645453</td>\n",
       "      <td>24.112983</td>\n",
       "      <td>22.395608</td>\n",
       "    </tr>\n",
       "    <tr>\n",
       "      <td>6</td>\n",
       "      <td>3.198895</td>\n",
       "      <td>24.252498</td>\n",
       "      <td>22.556053</td>\n",
       "    </tr>\n",
       "    <tr>\n",
       "      <td>7</td>\n",
       "      <td>3.868121</td>\n",
       "      <td>24.424666</td>\n",
       "      <td>22.752576</td>\n",
       "    </tr>\n",
       "    <tr>\n",
       "      <td>8</td>\n",
       "      <td>4.677351</td>\n",
       "      <td>24.636176</td>\n",
       "      <td>22.992084</td>\n",
       "    </tr>\n",
       "    <tr>\n",
       "      <td>9</td>\n",
       "      <td>5.655878</td>\n",
       "      <td>24.895267</td>\n",
       "      <td>23.282905</td>\n",
       "    </tr>\n",
       "    <tr>\n",
       "      <td>10</td>\n",
       "      <td>6.839116</td>\n",
       "      <td>25.212048</td>\n",
       "      <td>23.635089</td>\n",
       "    </tr>\n",
       "    <tr>\n",
       "      <td>11</td>\n",
       "      <td>8.269895</td>\n",
       "      <td>25.598760</td>\n",
       "      <td>24.060662</td>\n",
       "    </tr>\n",
       "    <tr>\n",
       "      <td>12</td>\n",
       "      <td>10.000000</td>\n",
       "      <td>26.069865</td>\n",
       "      <td>24.573741</td>\n",
       "    </tr>\n",
       "  </tbody>\n",
       "</table>\n",
       "</div>"
      ],
      "text/plain": [
       "        alpha   MSE_test  MSE_train\n",
       "0    1.023293  23.742384  21.959905\n",
       "1    1.237371  23.784868  22.011321\n",
       "2    1.496236  23.840126  22.077217\n",
       "3    1.809256  23.910968  22.160725\n",
       "4    2.187762  24.000650  22.265461\n",
       "5    2.645453  24.112983  22.395608\n",
       "6    3.198895  24.252498  22.556053\n",
       "7    3.868121  24.424666  22.752576\n",
       "8    4.677351  24.636176  22.992084\n",
       "9    5.655878  24.895267  23.282905\n",
       "10   6.839116  25.212048  23.635089\n",
       "11   8.269895  25.598760  24.060662\n",
       "12  10.000000  26.069865  24.573741"
      ]
     },
     "execution_count": 13,
     "metadata": {},
     "output_type": "execute_result"
    }
   ],
   "source": [
    "# 1-b ridge regression\n",
    "Alpha = np.logspace(.01, 1, num=13)\n",
    "res1 = []\n",
    "for alpha in Alpha:\n",
    "    E_val_test, E_val_train = k_fold_cross_validation(k, X, y, alpha)\n",
    "    res1 += [[alpha, E_val_test, E_val_train]]\n",
    "res1 = pd.DataFrame(res1, columns=['alpha', 'MSE_test','MSE_train'])\n",
    "res1_temp = res1.sort_values(by=['MSE_test'])\n",
    "print(\"The best alpha is {}, with test error: {}\".format(res1_temp.iloc[0][0], res1_temp.iloc[0][1]))\n",
    "res1"
   ]
  },
  {
   "cell_type": "code",
   "execution_count": 14,
   "metadata": {},
   "outputs": [
    {
     "name": "stdout",
     "output_type": "stream",
     "text": [
      "The best alpha is 0.1109685726774124, with test error: 23.633071871558464\n"
     ]
    },
    {
     "data": {
      "text/html": [
       "<div>\n",
       "<style scoped>\n",
       "    .dataframe tbody tr th:only-of-type {\n",
       "        vertical-align: middle;\n",
       "    }\n",
       "\n",
       "    .dataframe tbody tr th {\n",
       "        vertical-align: top;\n",
       "    }\n",
       "\n",
       "    .dataframe thead th {\n",
       "        text-align: right;\n",
       "    }\n",
       "</style>\n",
       "<table border=\"1\" class=\"dataframe\">\n",
       "  <thead>\n",
       "    <tr style=\"text-align: right;\">\n",
       "      <th></th>\n",
       "      <th>alpha</th>\n",
       "      <th>MSE_test</th>\n",
       "      <th>MSE_train</th>\n",
       "    </tr>\n",
       "  </thead>\n",
       "  <tbody>\n",
       "    <tr>\n",
       "      <td>0</td>\n",
       "      <td>0.010000</td>\n",
       "      <td>23.635538</td>\n",
       "      <td>21.806210</td>\n",
       "    </tr>\n",
       "    <tr>\n",
       "      <td>1</td>\n",
       "      <td>0.012034</td>\n",
       "      <td>23.635437</td>\n",
       "      <td>21.806221</td>\n",
       "    </tr>\n",
       "    <tr>\n",
       "      <td>2</td>\n",
       "      <td>0.014481</td>\n",
       "      <td>23.635319</td>\n",
       "      <td>21.806238</td>\n",
       "    </tr>\n",
       "    <tr>\n",
       "      <td>3</td>\n",
       "      <td>0.017426</td>\n",
       "      <td>23.635180</td>\n",
       "      <td>21.806262</td>\n",
       "    </tr>\n",
       "    <tr>\n",
       "      <td>4</td>\n",
       "      <td>0.020970</td>\n",
       "      <td>23.635020</td>\n",
       "      <td>21.806297</td>\n",
       "    </tr>\n",
       "    <tr>\n",
       "      <td>5</td>\n",
       "      <td>0.025235</td>\n",
       "      <td>23.634836</td>\n",
       "      <td>21.806347</td>\n",
       "    </tr>\n",
       "    <tr>\n",
       "      <td>6</td>\n",
       "      <td>0.030367</td>\n",
       "      <td>23.634627</td>\n",
       "      <td>21.806420</td>\n",
       "    </tr>\n",
       "    <tr>\n",
       "      <td>7</td>\n",
       "      <td>0.036543</td>\n",
       "      <td>23.634394</td>\n",
       "      <td>21.806524</td>\n",
       "    </tr>\n",
       "    <tr>\n",
       "      <td>8</td>\n",
       "      <td>0.043974</td>\n",
       "      <td>23.634141</td>\n",
       "      <td>21.806674</td>\n",
       "    </tr>\n",
       "    <tr>\n",
       "      <td>9</td>\n",
       "      <td>0.052918</td>\n",
       "      <td>23.633872</td>\n",
       "      <td>21.806890</td>\n",
       "    </tr>\n",
       "    <tr>\n",
       "      <td>10</td>\n",
       "      <td>0.063680</td>\n",
       "      <td>23.633603</td>\n",
       "      <td>21.807199</td>\n",
       "    </tr>\n",
       "    <tr>\n",
       "      <td>11</td>\n",
       "      <td>0.076630</td>\n",
       "      <td>23.633353</td>\n",
       "      <td>21.807640</td>\n",
       "    </tr>\n",
       "    <tr>\n",
       "      <td>12</td>\n",
       "      <td>0.092215</td>\n",
       "      <td>23.633158</td>\n",
       "      <td>21.808270</td>\n",
       "    </tr>\n",
       "    <tr>\n",
       "      <td>13</td>\n",
       "      <td>0.110969</td>\n",
       "      <td>23.633072</td>\n",
       "      <td>21.809166</td>\n",
       "    </tr>\n",
       "    <tr>\n",
       "      <td>14</td>\n",
       "      <td>0.133537</td>\n",
       "      <td>23.633173</td>\n",
       "      <td>21.810437</td>\n",
       "    </tr>\n",
       "    <tr>\n",
       "      <td>15</td>\n",
       "      <td>0.160694</td>\n",
       "      <td>23.633578</td>\n",
       "      <td>21.812232</td>\n",
       "    </tr>\n",
       "    <tr>\n",
       "      <td>16</td>\n",
       "      <td>0.193375</td>\n",
       "      <td>23.634454</td>\n",
       "      <td>21.814755</td>\n",
       "    </tr>\n",
       "    <tr>\n",
       "      <td>17</td>\n",
       "      <td>0.232702</td>\n",
       "      <td>23.636032</td>\n",
       "      <td>21.818284</td>\n",
       "    </tr>\n",
       "    <tr>\n",
       "      <td>18</td>\n",
       "      <td>0.280027</td>\n",
       "      <td>23.638631</td>\n",
       "      <td>21.823190</td>\n",
       "    </tr>\n",
       "    <tr>\n",
       "      <td>19</td>\n",
       "      <td>0.336977</td>\n",
       "      <td>23.642682</td>\n",
       "      <td>21.829963</td>\n",
       "    </tr>\n",
       "    <tr>\n",
       "      <td>20</td>\n",
       "      <td>0.405509</td>\n",
       "      <td>23.648750</td>\n",
       "      <td>21.839242</td>\n",
       "    </tr>\n",
       "    <tr>\n",
       "      <td>21</td>\n",
       "      <td>0.487978</td>\n",
       "      <td>23.657571</td>\n",
       "      <td>21.851845</td>\n",
       "    </tr>\n",
       "    <tr>\n",
       "      <td>22</td>\n",
       "      <td>0.587219</td>\n",
       "      <td>23.670071</td>\n",
       "      <td>21.868802</td>\n",
       "    </tr>\n",
       "    <tr>\n",
       "      <td>23</td>\n",
       "      <td>0.706643</td>\n",
       "      <td>23.687399</td>\n",
       "      <td>21.891385</td>\n",
       "    </tr>\n",
       "    <tr>\n",
       "      <td>24</td>\n",
       "      <td>0.850354</td>\n",
       "      <td>23.710951</td>\n",
       "      <td>21.921139</td>\n",
       "    </tr>\n",
       "    <tr>\n",
       "      <td>25</td>\n",
       "      <td>1.023293</td>\n",
       "      <td>23.742384</td>\n",
       "      <td>21.959905</td>\n",
       "    </tr>\n",
       "  </tbody>\n",
       "</table>\n",
       "</div>"
      ],
      "text/plain": [
       "       alpha   MSE_test  MSE_train\n",
       "0   0.010000  23.635538  21.806210\n",
       "1   0.012034  23.635437  21.806221\n",
       "2   0.014481  23.635319  21.806238\n",
       "3   0.017426  23.635180  21.806262\n",
       "4   0.020970  23.635020  21.806297\n",
       "5   0.025235  23.634836  21.806347\n",
       "6   0.030367  23.634627  21.806420\n",
       "7   0.036543  23.634394  21.806524\n",
       "8   0.043974  23.634141  21.806674\n",
       "9   0.052918  23.633872  21.806890\n",
       "10  0.063680  23.633603  21.807199\n",
       "11  0.076630  23.633353  21.807640\n",
       "12  0.092215  23.633158  21.808270\n",
       "13  0.110969  23.633072  21.809166\n",
       "14  0.133537  23.633173  21.810437\n",
       "15  0.160694  23.633578  21.812232\n",
       "16  0.193375  23.634454  21.814755\n",
       "17  0.232702  23.636032  21.818284\n",
       "18  0.280027  23.638631  21.823190\n",
       "19  0.336977  23.642682  21.829963\n",
       "20  0.405509  23.648750  21.839242\n",
       "21  0.487978  23.657571  21.851845\n",
       "22  0.587219  23.670071  21.868802\n",
       "23  0.706643  23.687399  21.891385\n",
       "24  0.850354  23.710951  21.921139\n",
       "25  1.023293  23.742384  21.959905"
      ]
     },
     "execution_count": 14,
     "metadata": {},
     "output_type": "execute_result"
    }
   ],
   "source": [
    "# 1-c ridge regression: different alpha\n",
    "Alpha = np.logspace(-2, 0.01, num=26)\n",
    "res1 = []\n",
    "for alpha in Alpha:\n",
    "    E_val_test, E_val_train = k_fold_cross_validation(k, X, y, alpha)\n",
    "    res1 += [[alpha, E_val_test, E_val_train]]\n",
    "res1 = pd.DataFrame(res1, columns=['alpha', 'MSE_test','MSE_train'])\n",
    "res1_temp = res1.sort_values(by=['MSE_test'])\n",
    "res_1 += [list(res1_temp.iloc[0])+[d]]\n",
    "print(\"The best alpha is {}, with test error: {}\".format(res1_temp.iloc[0][0], res1_temp.iloc[0][1]))\n",
    "res1"
   ]
  },
  {
   "cell_type": "code",
   "execution_count": 15,
   "metadata": {},
   "outputs": [
    {
     "data": {
      "text/plain": [
       "[[0.1109685726774124, 23.633071871558464, 21.80916627757687, 1],\n",
       " [0.0, 23.636068605428214, 21.806183575851065, 1]]"
      ]
     },
     "execution_count": 15,
     "metadata": {},
     "output_type": "execute_result"
    }
   ],
   "source": [
    "# get the best alpha when degree d = 1\n",
    "# print(res_1)\n",
    "res_1.sort(key=lambda x: x[1])\n",
    "res_1"
   ]
  },
  {
   "cell_type": "code",
   "execution_count": 16,
   "metadata": {},
   "outputs": [],
   "source": [
    "# 2 using a polynomial transformation with d = 2\n",
    "res_2 = [] # store the results from question 2-a to 2-c\n",
    "d = 2"
   ]
  },
  {
   "cell_type": "code",
   "execution_count": 17,
   "metadata": {},
   "outputs": [
    {
     "name": "stdout",
     "output_type": "stream",
     "text": [
      "MSE for test set: 11.854968234785357\n",
      "MSE for training set: 5.808820816012466\n"
     ]
    }
   ],
   "source": [
    "# 2-a fitting a linear model\n",
    "alpha = 0.\n",
    "E_val_test, E_val_train = k_fold_cross_validation(k, X_2, y_2, alpha)\n",
    "\n",
    "print(\"MSE for test set: {}\".format(E_val_test))\n",
    "print(\"MSE for training set: {}\".format(E_val_train))\n",
    "res_2 += [[0., E_val_test, E_val_train, d]]"
   ]
  },
  {
   "cell_type": "code",
   "execution_count": 18,
   "metadata": {},
   "outputs": [
    {
     "name": "stdout",
     "output_type": "stream",
     "text": [
      "The best alpha is 1.023292992280754, with test error: 19.199566714047066\n"
     ]
    },
    {
     "data": {
      "text/html": [
       "<div>\n",
       "<style scoped>\n",
       "    .dataframe tbody tr th:only-of-type {\n",
       "        vertical-align: middle;\n",
       "    }\n",
       "\n",
       "    .dataframe tbody tr th {\n",
       "        vertical-align: top;\n",
       "    }\n",
       "\n",
       "    .dataframe thead th {\n",
       "        text-align: right;\n",
       "    }\n",
       "</style>\n",
       "<table border=\"1\" class=\"dataframe\">\n",
       "  <thead>\n",
       "    <tr style=\"text-align: right;\">\n",
       "      <th></th>\n",
       "      <th>alpha</th>\n",
       "      <th>MSE_test</th>\n",
       "      <th>MSE_train</th>\n",
       "    </tr>\n",
       "  </thead>\n",
       "  <tbody>\n",
       "    <tr>\n",
       "      <td>0</td>\n",
       "      <td>1.023293</td>\n",
       "      <td>19.199567</td>\n",
       "      <td>16.467710</td>\n",
       "    </tr>\n",
       "    <tr>\n",
       "      <td>1</td>\n",
       "      <td>1.237371</td>\n",
       "      <td>19.707877</td>\n",
       "      <td>17.036871</td>\n",
       "    </tr>\n",
       "    <tr>\n",
       "      <td>2</td>\n",
       "      <td>1.496236</td>\n",
       "      <td>20.211352</td>\n",
       "      <td>17.602888</td>\n",
       "    </tr>\n",
       "    <tr>\n",
       "      <td>3</td>\n",
       "      <td>1.809256</td>\n",
       "      <td>20.713472</td>\n",
       "      <td>18.169097</td>\n",
       "    </tr>\n",
       "    <tr>\n",
       "      <td>4</td>\n",
       "      <td>2.187762</td>\n",
       "      <td>21.219075</td>\n",
       "      <td>18.740287</td>\n",
       "    </tr>\n",
       "    <tr>\n",
       "      <td>5</td>\n",
       "      <td>2.645453</td>\n",
       "      <td>21.734330</td>\n",
       "      <td>19.322644</td>\n",
       "    </tr>\n",
       "    <tr>\n",
       "      <td>6</td>\n",
       "      <td>3.198895</td>\n",
       "      <td>22.266890</td>\n",
       "      <td>19.923844</td>\n",
       "    </tr>\n",
       "    <tr>\n",
       "      <td>7</td>\n",
       "      <td>3.868121</td>\n",
       "      <td>22.826188</td>\n",
       "      <td>20.553290</td>\n",
       "    </tr>\n",
       "    <tr>\n",
       "      <td>8</td>\n",
       "      <td>4.677351</td>\n",
       "      <td>23.423803</td>\n",
       "      <td>21.222416</td>\n",
       "    </tr>\n",
       "    <tr>\n",
       "      <td>9</td>\n",
       "      <td>5.655878</td>\n",
       "      <td>24.073726</td>\n",
       "      <td>21.944942</td>\n",
       "    </tr>\n",
       "    <tr>\n",
       "      <td>10</td>\n",
       "      <td>6.839116</td>\n",
       "      <td>24.792390</td>\n",
       "      <td>22.736913</td>\n",
       "    </tr>\n",
       "    <tr>\n",
       "      <td>11</td>\n",
       "      <td>8.269895</td>\n",
       "      <td>25.598276</td>\n",
       "      <td>23.616353</td>\n",
       "    </tr>\n",
       "    <tr>\n",
       "      <td>12</td>\n",
       "      <td>10.000000</td>\n",
       "      <td>26.510967</td>\n",
       "      <td>24.602411</td>\n",
       "    </tr>\n",
       "  </tbody>\n",
       "</table>\n",
       "</div>"
      ],
      "text/plain": [
       "        alpha   MSE_test  MSE_train\n",
       "0    1.023293  19.199567  16.467710\n",
       "1    1.237371  19.707877  17.036871\n",
       "2    1.496236  20.211352  17.602888\n",
       "3    1.809256  20.713472  18.169097\n",
       "4    2.187762  21.219075  18.740287\n",
       "5    2.645453  21.734330  19.322644\n",
       "6    3.198895  22.266890  19.923844\n",
       "7    3.868121  22.826188  20.553290\n",
       "8    4.677351  23.423803  21.222416\n",
       "9    5.655878  24.073726  21.944942\n",
       "10   6.839116  24.792390  22.736913\n",
       "11   8.269895  25.598276  23.616353\n",
       "12  10.000000  26.510967  24.602411"
      ]
     },
     "execution_count": 18,
     "metadata": {},
     "output_type": "execute_result"
    }
   ],
   "source": [
    "# 2-b ridge regression\n",
    "Alpha = np.logspace(.01, 1, num=13)\n",
    "res2 = []\n",
    "for alpha in Alpha:\n",
    "    E_val_test, E_val_train = k_fold_cross_validation(k, X_2, y_2, alpha)\n",
    "    res2 += [[alpha, E_val_test, E_val_train]]\n",
    "res2 = pd.DataFrame(res2, columns=['alpha', 'MSE_test','MSE_train'])\n",
    "res2_temp = res2.sort_values(by=['MSE_test'])\n",
    "print(\"The best alpha is {}, with test error: {}\".format(res2_temp.iloc[0][0], res2_temp.iloc[0][1]))\n",
    "res2"
   ]
  },
  {
   "cell_type": "code",
   "execution_count": 19,
   "metadata": {},
   "outputs": [
    {
     "name": "stdout",
     "output_type": "stream",
     "text": [
      "The best alpha is 0.0009170647491149314, with test error: 11.304755407906294\n"
     ]
    },
    {
     "data": {
      "text/html": [
       "<div>\n",
       "<style scoped>\n",
       "    .dataframe tbody tr th:only-of-type {\n",
       "        vertical-align: middle;\n",
       "    }\n",
       "\n",
       "    .dataframe tbody tr th {\n",
       "        vertical-align: top;\n",
       "    }\n",
       "\n",
       "    .dataframe thead th {\n",
       "        text-align: right;\n",
       "    }\n",
       "</style>\n",
       "<table border=\"1\" class=\"dataframe\">\n",
       "  <thead>\n",
       "    <tr style=\"text-align: right;\">\n",
       "      <th></th>\n",
       "      <th>alpha</th>\n",
       "      <th>MSE_test</th>\n",
       "      <th>MSE_train</th>\n",
       "    </tr>\n",
       "  </thead>\n",
       "  <tbody>\n",
       "    <tr>\n",
       "      <td>0</td>\n",
       "      <td>0.000100</td>\n",
       "      <td>11.525991</td>\n",
       "      <td>5.871832</td>\n",
       "    </tr>\n",
       "    <tr>\n",
       "      <td>1</td>\n",
       "      <td>0.000145</td>\n",
       "      <td>11.479109</td>\n",
       "      <td>5.897656</td>\n",
       "    </tr>\n",
       "    <tr>\n",
       "      <td>2</td>\n",
       "      <td>0.000209</td>\n",
       "      <td>11.431263</td>\n",
       "      <td>5.933510</td>\n",
       "    </tr>\n",
       "    <tr>\n",
       "      <td>3</td>\n",
       "      <td>0.000303</td>\n",
       "      <td>11.385505</td>\n",
       "      <td>5.981932</td>\n",
       "    </tr>\n",
       "    <tr>\n",
       "      <td>4</td>\n",
       "      <td>0.000438</td>\n",
       "      <td>11.345973</td>\n",
       "      <td>6.045656</td>\n",
       "    </tr>\n",
       "    <tr>\n",
       "      <td>5</td>\n",
       "      <td>0.000634</td>\n",
       "      <td>11.317474</td>\n",
       "      <td>6.127428</td>\n",
       "    </tr>\n",
       "    <tr>\n",
       "      <td>6</td>\n",
       "      <td>0.000917</td>\n",
       "      <td>11.304755</td>\n",
       "      <td>6.229632</td>\n",
       "    </tr>\n",
       "    <tr>\n",
       "      <td>7</td>\n",
       "      <td>0.001327</td>\n",
       "      <td>11.311855</td>\n",
       "      <td>6.353890</td>\n",
       "    </tr>\n",
       "    <tr>\n",
       "      <td>8</td>\n",
       "      <td>0.001920</td>\n",
       "      <td>11.341654</td>\n",
       "      <td>6.500932</td>\n",
       "    </tr>\n",
       "    <tr>\n",
       "      <td>9</td>\n",
       "      <td>0.002777</td>\n",
       "      <td>11.395626</td>\n",
       "      <td>6.670971</td>\n",
       "    </tr>\n",
       "    <tr>\n",
       "      <td>10</td>\n",
       "      <td>0.004018</td>\n",
       "      <td>11.474003</td>\n",
       "      <td>6.864473</td>\n",
       "    </tr>\n",
       "    <tr>\n",
       "      <td>11</td>\n",
       "      <td>0.005813</td>\n",
       "      <td>11.576527</td>\n",
       "      <td>7.082930</td>\n",
       "    </tr>\n",
       "    <tr>\n",
       "      <td>12</td>\n",
       "      <td>0.008410</td>\n",
       "      <td>11.703406</td>\n",
       "      <td>7.329188</td>\n",
       "    </tr>\n",
       "    <tr>\n",
       "      <td>13</td>\n",
       "      <td>0.012167</td>\n",
       "      <td>11.855701</td>\n",
       "      <td>7.607221</td>\n",
       "    </tr>\n",
       "    <tr>\n",
       "      <td>14</td>\n",
       "      <td>0.017604</td>\n",
       "      <td>12.035380</td>\n",
       "      <td>7.921662</td>\n",
       "    </tr>\n",
       "    <tr>\n",
       "      <td>15</td>\n",
       "      <td>0.025468</td>\n",
       "      <td>12.246462</td>\n",
       "      <td>8.277938</td>\n",
       "    </tr>\n",
       "    <tr>\n",
       "      <td>16</td>\n",
       "      <td>0.036847</td>\n",
       "      <td>12.498278</td>\n",
       "      <td>8.683873</td>\n",
       "    </tr>\n",
       "    <tr>\n",
       "      <td>17</td>\n",
       "      <td>0.053309</td>\n",
       "      <td>12.809436</td>\n",
       "      <td>9.152528</td>\n",
       "    </tr>\n",
       "    <tr>\n",
       "      <td>18</td>\n",
       "      <td>0.077126</td>\n",
       "      <td>13.208864</td>\n",
       "      <td>9.704169</td>\n",
       "    </tr>\n",
       "    <tr>\n",
       "      <td>19</td>\n",
       "      <td>0.111584</td>\n",
       "      <td>13.730250</td>\n",
       "      <td>10.363925</td>\n",
       "    </tr>\n",
       "    <tr>\n",
       "      <td>20</td>\n",
       "      <td>0.161436</td>\n",
       "      <td>14.399127</td>\n",
       "      <td>11.152963</td>\n",
       "    </tr>\n",
       "    <tr>\n",
       "      <td>21</td>\n",
       "      <td>0.233561</td>\n",
       "      <td>15.217642</td>\n",
       "      <td>12.075720</td>\n",
       "    </tr>\n",
       "    <tr>\n",
       "      <td>22</td>\n",
       "      <td>0.337909</td>\n",
       "      <td>16.157110</td>\n",
       "      <td>13.111335</td>\n",
       "    </tr>\n",
       "    <tr>\n",
       "      <td>23</td>\n",
       "      <td>0.488877</td>\n",
       "      <td>17.166195</td>\n",
       "      <td>14.217566</td>\n",
       "    </tr>\n",
       "    <tr>\n",
       "      <td>24</td>\n",
       "      <td>0.707294</td>\n",
       "      <td>18.191765</td>\n",
       "      <td>15.347282</td>\n",
       "    </tr>\n",
       "    <tr>\n",
       "      <td>25</td>\n",
       "      <td>1.023293</td>\n",
       "      <td>19.199567</td>\n",
       "      <td>16.467710</td>\n",
       "    </tr>\n",
       "  </tbody>\n",
       "</table>\n",
       "</div>"
      ],
      "text/plain": [
       "       alpha   MSE_test  MSE_train\n",
       "0   0.000100  11.525991   5.871832\n",
       "1   0.000145  11.479109   5.897656\n",
       "2   0.000209  11.431263   5.933510\n",
       "3   0.000303  11.385505   5.981932\n",
       "4   0.000438  11.345973   6.045656\n",
       "5   0.000634  11.317474   6.127428\n",
       "6   0.000917  11.304755   6.229632\n",
       "7   0.001327  11.311855   6.353890\n",
       "8   0.001920  11.341654   6.500932\n",
       "9   0.002777  11.395626   6.670971\n",
       "10  0.004018  11.474003   6.864473\n",
       "11  0.005813  11.576527   7.082930\n",
       "12  0.008410  11.703406   7.329188\n",
       "13  0.012167  11.855701   7.607221\n",
       "14  0.017604  12.035380   7.921662\n",
       "15  0.025468  12.246462   8.277938\n",
       "16  0.036847  12.498278   8.683873\n",
       "17  0.053309  12.809436   9.152528\n",
       "18  0.077126  13.208864   9.704169\n",
       "19  0.111584  13.730250  10.363925\n",
       "20  0.161436  14.399127  11.152963\n",
       "21  0.233561  15.217642  12.075720\n",
       "22  0.337909  16.157110  13.111335\n",
       "23  0.488877  17.166195  14.217566\n",
       "24  0.707294  18.191765  15.347282\n",
       "25  1.023293  19.199567  16.467710"
      ]
     },
     "execution_count": 19,
     "metadata": {},
     "output_type": "execute_result"
    }
   ],
   "source": [
    "# 2-c ridge regression: different alpha\n",
    "Alpha = np.logspace(-4, 0.01, num=26)\n",
    "res2 = []\n",
    "for alpha in Alpha:\n",
    "    E_val_test, E_val_train = k_fold_cross_validation(k, X_2, y_2, alpha)\n",
    "    res2 += [[alpha, E_val_test, E_val_train]]\n",
    "res2 = pd.DataFrame(res2, columns=['alpha', 'MSE_test','MSE_train'])\n",
    "res2_temp = res2.sort_values(by=['MSE_test'])\n",
    "res_2 += [list(res2_temp.iloc[0])+[d]]\n",
    "print(\"The best alpha is {}, with test error: {}\".format(res2_temp.iloc[0][0], res2_temp.iloc[0][1]))\n",
    "res2"
   ]
  },
  {
   "cell_type": "code",
   "execution_count": 20,
   "metadata": {},
   "outputs": [
    {
     "data": {
      "text/plain": [
       "[[0.0009170647491149314, 11.304755407906294, 6.22963199327044, 2],\n",
       " [0.0, 11.854968234785357, 5.808820816012466, 2]]"
      ]
     },
     "execution_count": 20,
     "metadata": {},
     "output_type": "execute_result"
    }
   ],
   "source": [
    "# get the best alpha when degree d = 2\n",
    "# print(res2)\n",
    "res_2.sort(key=lambda x: x[1])\n",
    "res_2"
   ]
  },
  {
   "cell_type": "code",
   "execution_count": 21,
   "metadata": {},
   "outputs": [],
   "source": [
    "# proganswer\n",
    "import matplotlib.pyplot as plt"
   ]
  },
  {
   "cell_type": "code",
   "execution_count": 22,
   "metadata": {},
   "outputs": [],
   "source": [
    "# 3-a alpha and MSE_test"
   ]
  },
  {
   "cell_type": "code",
   "execution_count": 23,
   "metadata": {},
   "outputs": [
    {
     "data": {
      "image/png": "[encoded data removed]",
      "text/plain": [
       "<Figure size 432x288 with 1 Axes>"
      ]
     },
     "metadata": {
      "needs_background": "light"
     },
     "output_type": "display_data"
    }
   ],
   "source": [
    "# d = 1\n",
    "alpha_x = res1['alpha']\n",
    "mse_test = res1['MSE_test']\n",
    "\n",
    "plt.plot(alpha_x, mse_test, 'ro')\n",
    "\n",
    "plt.title('test error when d = 1')\n",
    "plt.xlabel('alpha')\n",
    "plt.ylabel('test_error')\n",
    "plt.show()"
   ]
  },
  {
   "cell_type": "code",
   "execution_count": 24,
   "metadata": {},
   "outputs": [
    {
     "data": {
      "image/png": "[encoded data removed]",
      "text/plain": [
       "<Figure size 432x288 with 1 Axes>"
      ]
     },
     "metadata": {
      "needs_background": "light"
     },
     "output_type": "display_data"
    }
   ],
   "source": [
    "# d = 1\n",
    "# show the minimum test error when d = 1\n",
    "res1_1 = res1[8:18]\n",
    "alpha_x = res1_1['alpha']\n",
    "mse_test = res1_1['MSE_test']\n",
    "\n",
    "plt.plot(alpha_x, mse_test, 'ro')\n",
    "\n",
    "plt.title('test error when d = 1')\n",
    "plt.xlabel('alpha')\n",
    "plt.ylabel('test_error')\n",
    "plt.show()"
   ]
  },
  {
   "cell_type": "code",
   "execution_count": 25,
   "metadata": {},
   "outputs": [
    {
     "data": {
      "image/png": "[encoded data removed]",
      "text/plain": [
       "<Figure size 432x288 with 1 Axes>"
      ]
     },
     "metadata": {
      "needs_background": "light"
     },
     "output_type": "display_data"
    }
   ],
   "source": [
    "# d = 2\n",
    "alpha_x = res2['alpha']\n",
    "mse_test = res2['MSE_test']\n",
    "\n",
    "plt.plot(alpha_x, mse_test, 'bo')\n",
    "\n",
    "plt.title('test error when d = 2')\n",
    "plt.xlabel('alpha')\n",
    "plt.ylabel('test_error')\n",
    "plt.show()"
   ]
  },
  {
   "cell_type": "code",
   "execution_count": 26,
   "metadata": {},
   "outputs": [
    {
     "data": {
      "image/png": "[encoded data removed]",
      "text/plain": [
       "<Figure size 432x288 with 1 Axes>"
      ]
     },
     "metadata": {
      "needs_background": "light"
     },
     "output_type": "display_data"
    }
   ],
   "source": [
    "# d = 2\n",
    "# show the minimum test error when d = 2\n",
    "res2_1 = res2[:10]\n",
    "alpha_x = res2_1['alpha']\n",
    "mse_test = res2_1['MSE_test']\n",
    "\n",
    "plt.plot(alpha_x, mse_test, 'bo')\n",
    "\n",
    "plt.title('test error when d = 2')\n",
    "plt.xlabel('alpha')\n",
    "plt.ylabel('test_error')\n",
    "plt.show()"
   ]
  },
  {
   "cell_type": "code",
   "execution_count": 27,
   "metadata": {},
   "outputs": [
    {
     "name": "stdout",
     "output_type": "stream",
     "text": [
      "The predicted price is: 202.12890536000813\n"
     ]
    }
   ],
   "source": [
    "# 3-b choose one model to fit\n",
    "# print(res_1[0])\n",
    "# print(res_2[0])\n",
    "model_best = min(res_1[0], res_2[0], key=lambda x: x[1])\n",
    "alpha_best = model_best[0]\n",
    "d_best = model_best[-1]\n",
    "\n",
    "X_single_test = np.array([5, 0.5, 2, 0, 4, 8, 4, 6, 2, 2, 2, 4, 5.5])\n",
    "X_single_test = X_single_test.reshape(1, X_single_test.shape[0])\n",
    "X_best = X\n",
    "y_best = y\n",
    "\n",
    "if d_best == 2:\n",
    "    X_best = X_2\n",
    "    X_single_test = poly.fit_transform(X_single_test)\n",
    "\n",
    "\n",
    "scaler = preprocessing.StandardScaler().fit(X_best)\n",
    "X_best = scaler.transform(X_best)\n",
    "X_single_test = scaler.transform(X_single_test)\n",
    "\n",
    "y_best_mean = np.mean(y_best)\n",
    "y_best -= y_best_mean\n",
    "\n",
    "w_best = get_coeff_ridge_normaleq(X_best, y_best, alpha_best)\n",
    "y_single_test = X_single_test.dot(w_best)[0][0]\n",
    "print(\"The predicted price is: {}\".format(y_single_test))\n",
    "# print(d_best)"
   ]
  },
  {
   "cell_type": "code",
   "execution_count": null,
   "metadata": {},
   "outputs": [],
   "source": []
  }
 ],
 "metadata": {
  "kernelspec": {
   "display_name": "Python 3",
   "language": "python",
   "name": "python3"
  },
  "language_info": {
   "codemirror_mode": {
    "name": "ipython",
    "version": 3
   },
   "file_extension": ".py",
   "mimetype": "text/x-python",
   "name": "python",
   "nbconvert_exporter": "python",
   "pygments_lexer": "ipython3",
   "version": "3.7.4"
  }
 },
 "nbformat": 4,
 "nbformat_minor": 2
}
