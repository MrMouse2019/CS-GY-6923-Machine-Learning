{
 "cells": [
  {
   "cell_type": "markdown",
   "metadata": {},
   "source": [
    "# Salmon classification with the bivariate Gaussian\n",
    "\n",
    "In this assigment, you will predict if a fish is an 'Alaskan' salmon or a 'Canadian' salmon.\n",
    "\n",
    "The algorithm you will use a generative algorithm.  Where you model each class as a **bivariate Gaussian**."
   ]
  },
  {
   "cell_type": "markdown",
   "metadata": {},
   "source": [
    "## Step 0. Import statements\n",
    "\n",
    "The Python programming language, as most programming languages, is augmented by **modules**.  These modules contain functions and classes for specialized tasks needed in machine learning.\n",
    "\n",
    "Below, we will `import` three modules:\n",
    "* **pandas**\n",
    "* **numpy**\n",
    "* **matplotlib.pyplot**\n",
    "\n",
    "Note that we imported these modules using **aliases**"
   ]
  },
  {
   "cell_type": "code",
   "execution_count": 1,
   "metadata": {},
   "outputs": [],
   "source": [
    "# Standard libraries\n",
    "%matplotlib inline\n",
    "import pandas as pd\n",
    "import numpy as np # for better array operations\n",
    "import matplotlib.pyplot as plt # plotting utilities \n",
    "\n",
    "# Module computing the Gaussian density\n",
    "from scipy.stats import norm, multivariate_normal \n"
   ]
  },
  {
   "cell_type": "markdown",
   "metadata": {},
   "source": [
    "## Step 1. Data preparation: loading, understanding and cleaning the dataset"
   ]
  },
  {
   "cell_type": "markdown",
   "metadata": {},
   "source": [
    "### Importing the dataset\n",
    "Make sure the file `Salmon_dataset.csv` is in the same directory as this notebook.\n",
    "\n",
    "The dataset contains 100  examples, each example has 3 features (*gender, Freshwater, marine*) and a label (*Alaskan, Canadian*)."
   ]
  },
  {
   "cell_type": "code",
   "execution_count": 2,
   "metadata": {},
   "outputs": [
    {
     "data": {
      "text/html": [
       "<div>\n",
       "<style scoped>\n",
       "    .dataframe tbody tr th:only-of-type {\n",
       "        vertical-align: middle;\n",
       "    }\n",
       "\n",
       "    .dataframe tbody tr th {\n",
       "        vertical-align: top;\n",
       "    }\n",
       "\n",
       "    .dataframe thead th {\n",
       "        text-align: right;\n",
       "    }\n",
       "</style>\n",
       "<table border=\"1\" class=\"dataframe\">\n",
       "  <thead>\n",
       "    <tr style=\"text-align: right;\">\n",
       "      <th></th>\n",
       "      <th>Gender</th>\n",
       "      <th>Freshwater</th>\n",
       "      <th>Marine</th>\n",
       "      <th>Origin</th>\n",
       "    </tr>\n",
       "  </thead>\n",
       "  <tbody>\n",
       "    <tr>\n",
       "      <td>0</td>\n",
       "      <td>2</td>\n",
       "      <td>108</td>\n",
       "      <td>368</td>\n",
       "      <td>Alaskan</td>\n",
       "    </tr>\n",
       "    <tr>\n",
       "      <td>1</td>\n",
       "      <td>1</td>\n",
       "      <td>131</td>\n",
       "      <td>355</td>\n",
       "      <td>Alaskan</td>\n",
       "    </tr>\n",
       "    <tr>\n",
       "      <td>2</td>\n",
       "      <td>1</td>\n",
       "      <td>105</td>\n",
       "      <td>469</td>\n",
       "      <td>Alaskan</td>\n",
       "    </tr>\n",
       "    <tr>\n",
       "      <td>3</td>\n",
       "      <td>2</td>\n",
       "      <td>86</td>\n",
       "      <td>506</td>\n",
       "      <td>Alaskan</td>\n",
       "    </tr>\n",
       "    <tr>\n",
       "      <td>4</td>\n",
       "      <td>1</td>\n",
       "      <td>99</td>\n",
       "      <td>402</td>\n",
       "      <td>Alaskan</td>\n",
       "    </tr>\n",
       "  </tbody>\n",
       "</table>\n",
       "</div>"
      ],
      "text/plain": [
       "   Gender  Freshwater  Marine   Origin\n",
       "0       2         108     368  Alaskan\n",
       "1       1         131     355  Alaskan\n",
       "2       1         105     469  Alaskan\n",
       "3       2          86     506  Alaskan\n",
       "4       1          99     402  Alaskan"
      ]
     },
     "execution_count": 2,
     "metadata": {},
     "output_type": "execute_result"
    }
   ],
   "source": [
    "# Loading the data set using Panda's in a dataframe \n",
    "\n",
    "df = pd.read_csv('Salmon_dataset.csv', delimiter=',') \n",
    "\n",
    "#Lets check that everything worked before continuing on\n",
    "df.head()"
   ]
  },
  {
   "cell_type": "markdown",
   "metadata": {},
   "source": [
    "### Data preprocesssing\n",
    "We will change the labels 'Alaskan' and 'Canadian' to $0$ and $1$ respectively.  In our code it is easier to work with numerical values instead of strings.\n",
    "\n",
    "Often we will do more dataprepocessing, such as looking for missing values and scaling the data though that is NOT required for this assignment yet. "
   ]
  },
  {
   "cell_type": "code",
   "execution_count": 3,
   "metadata": {},
   "outputs": [
    {
     "data": {
      "text/html": [
       "<div>\n",
       "<style scoped>\n",
       "    .dataframe tbody tr th:only-of-type {\n",
       "        vertical-align: middle;\n",
       "    }\n",
       "\n",
       "    .dataframe tbody tr th {\n",
       "        vertical-align: top;\n",
       "    }\n",
       "\n",
       "    .dataframe thead th {\n",
       "        text-align: right;\n",
       "    }\n",
       "</style>\n",
       "<table border=\"1\" class=\"dataframe\">\n",
       "  <thead>\n",
       "    <tr style=\"text-align: right;\">\n",
       "      <th></th>\n",
       "      <th>Gender</th>\n",
       "      <th>Freshwater</th>\n",
       "      <th>Marine</th>\n",
       "      <th>Origin</th>\n",
       "    </tr>\n",
       "  </thead>\n",
       "  <tbody>\n",
       "    <tr>\n",
       "      <td>0</td>\n",
       "      <td>2</td>\n",
       "      <td>108</td>\n",
       "      <td>368</td>\n",
       "      <td>0</td>\n",
       "    </tr>\n",
       "    <tr>\n",
       "      <td>1</td>\n",
       "      <td>1</td>\n",
       "      <td>131</td>\n",
       "      <td>355</td>\n",
       "      <td>0</td>\n",
       "    </tr>\n",
       "    <tr>\n",
       "      <td>2</td>\n",
       "      <td>1</td>\n",
       "      <td>105</td>\n",
       "      <td>469</td>\n",
       "      <td>0</td>\n",
       "    </tr>\n",
       "    <tr>\n",
       "      <td>3</td>\n",
       "      <td>2</td>\n",
       "      <td>86</td>\n",
       "      <td>506</td>\n",
       "      <td>0</td>\n",
       "    </tr>\n",
       "    <tr>\n",
       "      <td>4</td>\n",
       "      <td>1</td>\n",
       "      <td>99</td>\n",
       "      <td>402</td>\n",
       "      <td>0</td>\n",
       "    </tr>\n",
       "  </tbody>\n",
       "</table>\n",
       "</div>"
      ],
      "text/plain": [
       "   Gender  Freshwater  Marine  Origin\n",
       "0       2         108     368       0\n",
       "1       1         131     355       0\n",
       "2       1         105     469       0\n",
       "3       2          86     506       0\n",
       "4       1          99     402       0"
      ]
     },
     "execution_count": 3,
     "metadata": {},
     "output_type": "execute_result"
    }
   ],
   "source": [
    "# It is easier to work with the data if the labels are integers\n",
    "# Changing the 'Origin' column values, map 'Alaskan':0 and 'Canadian':1\n",
    "df['Origin']=df.Origin.map({'Alaskan':0, 'Canadian':1})\n",
    "\n",
    "#Lets check that everything worked before continuing on\n",
    "df.head()"
   ]
  },
  {
   "cell_type": "code",
   "execution_count": 4,
   "metadata": {},
   "outputs": [],
   "source": [
    "# We will store the dataframe as a Numpy array\n",
    "data = df.to_numpy() \n",
    "\n",
    "# Split the examples into a training set (trainx, trainy) and test set (testx, testy) \n",
    "\n",
    "########## TO DO ##########\n",
    "n =  data.shape[0] # the number of rows\n",
    "train_n = int(.9*n) # this test set is a bit small to really evaluate our hypothesis - what could we do to get a better estimate and still keep most of the data to estimate our parameters?\n",
    "np.random.seed(0) # Our code randomly chooses which examples will be the training data, but for grading purposes we want the random numbers used to seperate the data are the same for everyone\n",
    "perm = np.random.permutation(n)\n",
    "trainx = data[perm[0:train_n],1:3] #selecting the two of the features `Freshwater' and 'Marine'\n",
    "trainy = data[perm[0:train_n],3]\n",
    "testx = data[perm[train_n:n], 1:3] # We won't look at the testx data until it is time to evauate our hypothesis.  This numpy array contains the set of test data for the assignment\n",
    "testy = data[perm[train_n:n],3]\n",
    "\n",
    "##########\n"
   ]
  },
  {
   "cell_type": "markdown",
   "metadata": {},
   "source": [
    "### Plotting the dataset\n",
    "Visualization can be helpful when exploring and getting to know a dataset."
   ]
  },
  {
   "cell_type": "code",
   "execution_count": 5,
   "metadata": {},
   "outputs": [
    {
     "data": {
      "text/plain": [
       "[<matplotlib.lines.Line2D at 0x262510857c8>]"
      ]
     },
     "execution_count": 5,
     "metadata": {},
     "output_type": "execute_result"
    },
    {
     "data": {
      "image/png": "[encoded data removed]",
      "text/plain": [
       "<Figure size 432x288 with 1 Axes>"
      ]
     },
     "metadata": {
      "needs_background": "light"
     },
     "output_type": "display_data"
    }
   ],
   "source": [
    "# plotting the Alaskan salmon as a green dot\n",
    "plt.plot(trainx[trainy==0,0], trainx[trainy==0,1], marker='o', ls='None', c='g')\n",
    "# plotting the Canadian salmon as a red dot\n",
    "plt.plot(trainx[trainy==1,0], trainx[trainy==1,1], marker='o', ls='None', c='r')"
   ]
  },
  {
   "cell_type": "markdown",
   "metadata": {},
   "source": [
    "## Step 2. Model training: implementing Gaussian Discriminant Analysis\n",
    "\n",
    "\n"
   ]
  },
  {
   "cell_type": "markdown",
   "metadata": {},
   "source": [
    "###  Sufficient statistics\n",
    "\n",
    "Just as if we were doing these calculations by hand, we break the process down into managable pieces\n",
    "\n",
    "Our first helper function will find the mean and covariance of the Gaussian for a set of examples"
   ]
  },
  {
   "cell_type": "code",
   "execution_count": 6,
   "metadata": {},
   "outputs": [],
   "source": [
    "# Input: a design matrix\n",
    "# Output: a numpy array containing the means for each feature, and a 2-dimensional numpy array containng the covariance matrix sigma\n",
    "def fit_gaussian(x):\n",
    "    ########## TO DO ##########\n",
    "    len_x = len(x)\n",
    "    mu = np.average(x, axis=0)\n",
    "    sigma = (1/len_x) * ((x - mu).T).dot(x-mu)\n",
    "    # print(mu)\n",
    "    # print(sigma)\n",
    "    ##########\n",
    "    return mu, sigma"
   ]
  },
  {
   "cell_type": "markdown",
   "metadata": {},
   "source": [
    "\n",
    "Before moving on, test your code to make sure it works correctly.  \n",
    "\n",
    "\n"
   ]
  },
  {
   "cell_type": "markdown",
   "metadata": {},
   "source": [
    "### Write the rest of your code here"
   ]
  },
  {
   "cell_type": "code",
   "execution_count": 7,
   "metadata": {
    "scrolled": true
   },
   "outputs": [
    {
     "name": "stdout",
     "output_type": "stream",
     "text": [
      "Q1:\n",
      "The estimated mu and sigma of the Gaussian for the Alaskan salmon are: [ 99.22222222 428.64444444] [[ 264.35061728 -212.54320988]\n",
      " [-212.54320988 1386.2291358 ]]\n",
      "\n",
      "Q2:\n",
      "The estimated mu and sigma of the Gaussian for the Canadian salmon are: [136.93333333 366.64444444] [[338.24       162.82074074]\n",
      " [162.82074074 712.85135802]]\n",
      "\n",
      "Q3:\n",
      "0 for Alaskan, 1 for Canadian\n",
      "The predicted class (Alaskan or Canadian) of the fish in the table are:\n",
      "[1 0 0 1 0 1 0 1 0 0]\n"
     ]
    },
    {
     "data": {
      "text/html": [
       "<div>\n",
       "<style scoped>\n",
       "    .dataframe tbody tr th:only-of-type {\n",
       "        vertical-align: middle;\n",
       "    }\n",
       "\n",
       "    .dataframe tbody tr th {\n",
       "        vertical-align: top;\n",
       "    }\n",
       "\n",
       "    .dataframe thead th {\n",
       "        text-align: right;\n",
       "    }\n",
       "</style>\n",
       "<table border=\"1\" class=\"dataframe\">\n",
       "  <thead>\n",
       "    <tr style=\"text-align: right;\">\n",
       "      <th></th>\n",
       "      <th>Freshwater</th>\n",
       "      <th>Marine</th>\n",
       "      <th>Predicted_Label</th>\n",
       "    </tr>\n",
       "  </thead>\n",
       "  <tbody>\n",
       "    <tr>\n",
       "      <td>0</td>\n",
       "      <td>144</td>\n",
       "      <td>403</td>\n",
       "      <td>Candian</td>\n",
       "    </tr>\n",
       "    <tr>\n",
       "      <td>1</td>\n",
       "      <td>76</td>\n",
       "      <td>442</td>\n",
       "      <td>Alaskan</td>\n",
       "    </tr>\n",
       "    <tr>\n",
       "      <td>2</td>\n",
       "      <td>100</td>\n",
       "      <td>470</td>\n",
       "      <td>Alaskan</td>\n",
       "    </tr>\n",
       "    <tr>\n",
       "      <td>3</td>\n",
       "      <td>155</td>\n",
       "      <td>349</td>\n",
       "      <td>Candian</td>\n",
       "    </tr>\n",
       "    <tr>\n",
       "      <td>4</td>\n",
       "      <td>99</td>\n",
       "      <td>403</td>\n",
       "      <td>Alaskan</td>\n",
       "    </tr>\n",
       "    <tr>\n",
       "      <td>5</td>\n",
       "      <td>124</td>\n",
       "      <td>341</td>\n",
       "      <td>Candian</td>\n",
       "    </tr>\n",
       "    <tr>\n",
       "      <td>6</td>\n",
       "      <td>136</td>\n",
       "      <td>438</td>\n",
       "      <td>Alaskan</td>\n",
       "    </tr>\n",
       "    <tr>\n",
       "      <td>7</td>\n",
       "      <td>152</td>\n",
       "      <td>301</td>\n",
       "      <td>Candian</td>\n",
       "    </tr>\n",
       "    <tr>\n",
       "      <td>8</td>\n",
       "      <td>99</td>\n",
       "      <td>481</td>\n",
       "      <td>Alaskan</td>\n",
       "    </tr>\n",
       "    <tr>\n",
       "      <td>9</td>\n",
       "      <td>80</td>\n",
       "      <td>398</td>\n",
       "      <td>Alaskan</td>\n",
       "    </tr>\n",
       "  </tbody>\n",
       "</table>\n",
       "</div>"
      ],
      "text/plain": [
       "   Freshwater  Marine Predicted_Label\n",
       "0         144     403         Candian\n",
       "1          76     442         Alaskan\n",
       "2         100     470         Alaskan\n",
       "3         155     349         Candian\n",
       "4          99     403         Alaskan\n",
       "5         124     341         Candian\n",
       "6         136     438         Alaskan\n",
       "7         152     301         Candian\n",
       "8          99     481         Alaskan\n",
       "9          80     398         Alaskan"
      ]
     },
     "execution_count": 7,
     "metadata": {},
     "output_type": "execute_result"
    }
   ],
   "source": [
    "# seperate the Alaskan Salmon(0) and the Canadian Salmon(1)\n",
    "\n",
    "# print(trainx[trainy==1])\n",
    "# print(len(trainx[trainy==0]))\n",
    "\n",
    "mu_Alaskan, sigma_Alaskan = fit_gaussian(trainx[trainy==0])\n",
    "mu_Canadian, sigma_Canadian = fit_gaussian(trainx[trainy==1])\n",
    "\n",
    "# print(testx)\n",
    "# print(testy)\n",
    "\n",
    "print(\"Q1:\")\n",
    "print(\"The estimated mu and sigma of the Gaussian for the Alaskan salmon are:\", mu_Alaskan, sigma_Alaskan)\n",
    "print()\n",
    "\n",
    "print(\"Q2:\")\n",
    "print(\"The estimated mu and sigma of the Gaussian for the Canadian salmon are:\", mu_Canadian, sigma_Canadian)\n",
    "print()\n",
    "\n",
    "def predict_single(x, mu1, sigma1, mu2, sigma2):\n",
    "    sigma1_inverse = np.linalg.inv(sigma1)\n",
    "    sigma2_inverse = np.linalg.inv(sigma2)\n",
    "    x1 = x - mu1\n",
    "    x2 = x - mu2\n",
    "    g1_x = (-0.5) * np.log(np.linalg.det(sigma1)) - (0.5) * ((x1.T).dot(sigma1_inverse).dot(x1))\n",
    "    g2_x = (-0.5) * np.log(np.linalg.det(sigma2)) - (0.5) * ((x2.T).dot(sigma2_inverse).dot(x2))\n",
    "    \n",
    "    # print(g1_x, g2_x)\n",
    "    \n",
    "    return 0 if g1_x >= g2_x else 1\n",
    "\n",
    "# predict_single(testx[0], mu_Alaskan, sigma_Alaskan, mu_Canadian, sigma_Canadian)\n",
    "\n",
    "res = [predict_single(single_test, mu_Alaskan, sigma_Alaskan, mu_Canadian, sigma_Canadian) for single_test in testx]\n",
    "res = np.array(res)\n",
    "\n",
    "print(\"Q3:\")\n",
    "print(\"0 for Alaskan, 1 for Canadian\")\n",
    "print(\"The predicted class (Alaskan or Canadian) of the fish in the table are:\")\n",
    "print(res)\n",
    "# print(\"The actual class (Alaskan or Canadian) of the fish in the table are:\")\n",
    "# print(testy)\n",
    "\n",
    "# predict_single(testx[6], mu_Alaskan, sigma_Alaskan, mu_Canadian, sigma_Canadian)\n",
    "# print(\"test data:\")\n",
    "# print(data[perm[train_n:n], 1:])\n",
    "\n",
    "res1 = pd.DataFrame({'Freshwater': testx[:, 0], 'Marine': testx[:,1], 'Predicted_Label': res[:]})\n",
    "res1['Predicted_Label'] = res1['Predicted_Label'].map({0: 'Alaskan', 1: 'Candian'})\n",
    "res1"
   ]
  },
  {
   "cell_type": "code",
   "execution_count": null,
   "metadata": {},
   "outputs": [],
   "source": []
  }
 ],
 "metadata": {
  "kernelspec": {
   "display_name": "Python 3",
   "language": "python",
   "name": "python3"
  },
  "language_info": {
   "codemirror_mode": {
    "name": "ipython",
    "version": 3
   },
   "file_extension": ".py",
   "mimetype": "text/x-python",
   "name": "python",
   "nbconvert_exporter": "python",
   "pygments_lexer": "ipython3",
   "version": "3.7.4"
  },
  "toc": {
   "colors": {
    "hover_highlight": "#DAA520",
    "navigate_num": "#000000",
    "navigate_text": "#333333",
    "running_highlight": "#FF0000",
    "selected_highlight": "#FFD700",
    "sidebar_border": "#EEEEEE",
    "wrapper_background": "#FFFFFF"
   },
   "moveMenuLeft": true,
   "nav_menu": {
    "height": "12px",
    "width": "252px"
   },
   "navigate_menu": true,
   "number_sections": false,
   "sideBar": true,
   "threshold": 4,
   "toc_cell": false,
   "toc_section_display": "block",
   "toc_window_display": false,
   "widenNotebook": false
  }
 },
 "nbformat": 4,
 "nbformat_minor": 1
}
